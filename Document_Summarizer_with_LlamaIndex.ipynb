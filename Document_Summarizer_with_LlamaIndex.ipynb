{
  "nbformat": 4,
  "nbformat_minor": 0,
  "metadata": {
    "colab": {
      "provenance": [],
      "authorship_tag": "ABX9TyPYqr2AAdQAaxZaRn57F+1D",
      "include_colab_link": true
    },
    "kernelspec": {
      "name": "python3",
      "display_name": "Python 3"
    },
    "language_info": {
      "name": "python"
    }
  },
  "cells": [
    {
      "cell_type": "markdown",
      "metadata": {
        "id": "view-in-github",
        "colab_type": "text"
      },
      "source": [
        "<a href=\"https://colab.research.google.com/github/Adhul-R/LLM/blob/main/Document_Summarizer_with_LlamaIndex.ipynb\" target=\"_parent\"><img src=\"https://colab.research.google.com/assets/colab-badge.svg\" alt=\"Open In Colab\"/></a>"
      ]
    },
    {
      "cell_type": "code",
      "execution_count": 34,
      "metadata": {
        "colab": {
          "base_uri": "https://localhost:8080/"
        },
        "collapsed": true,
        "id": "wFFBJTANcmTS",
        "outputId": "ff853e55-afed-495e-f272-45ea1d0f6f35"
      },
      "outputs": [
        {
          "output_type": "stream",
          "name": "stdout",
          "text": [
            "Requirement already satisfied: llama-index in /usr/local/lib/python3.11/dist-packages (0.12.38)\n",
            "Requirement already satisfied: llama-index-llms-groq in /usr/local/lib/python3.11/dist-packages (0.3.1)\n",
            "Requirement already satisfied: llama-index-embeddings-huggingface in /usr/local/lib/python3.11/dist-packages (0.5.4)\n",
            "Requirement already satisfied: llama-index-agent-openai<0.5,>=0.4.0 in /usr/local/lib/python3.11/dist-packages (from llama-index) (0.4.8)\n",
            "Requirement already satisfied: llama-index-cli<0.5,>=0.4.1 in /usr/local/lib/python3.11/dist-packages (from llama-index) (0.4.1)\n",
            "Requirement already satisfied: llama-index-core<0.13,>=0.12.38 in /usr/local/lib/python3.11/dist-packages (from llama-index) (0.12.38)\n",
            "Requirement already satisfied: llama-index-embeddings-openai<0.4,>=0.3.0 in /usr/local/lib/python3.11/dist-packages (from llama-index) (0.3.1)\n",
            "Requirement already satisfied: llama-index-indices-managed-llama-cloud>=0.4.0 in /usr/local/lib/python3.11/dist-packages (from llama-index) (0.7.1)\n",
            "Requirement already satisfied: llama-index-llms-openai<0.4,>=0.3.0 in /usr/local/lib/python3.11/dist-packages (from llama-index) (0.3.44)\n",
            "Requirement already satisfied: llama-index-multi-modal-llms-openai<0.5,>=0.4.0 in /usr/local/lib/python3.11/dist-packages (from llama-index) (0.4.3)\n",
            "Requirement already satisfied: llama-index-program-openai<0.4,>=0.3.0 in /usr/local/lib/python3.11/dist-packages (from llama-index) (0.3.1)\n",
            "Requirement already satisfied: llama-index-question-gen-openai<0.4,>=0.3.0 in /usr/local/lib/python3.11/dist-packages (from llama-index) (0.3.0)\n",
            "Requirement already satisfied: llama-index-readers-file<0.5,>=0.4.0 in /usr/local/lib/python3.11/dist-packages (from llama-index) (0.4.8)\n",
            "Requirement already satisfied: llama-index-readers-llama-parse>=0.4.0 in /usr/local/lib/python3.11/dist-packages (from llama-index) (0.4.0)\n",
            "Requirement already satisfied: nltk>3.8.1 in /usr/local/lib/python3.11/dist-packages (from llama-index) (3.9.1)\n",
            "Requirement already satisfied: llama-index-llms-openai-like<0.4.0,>=0.3.1 in /usr/local/lib/python3.11/dist-packages (from llama-index-llms-groq) (0.3.5)\n",
            "Requirement already satisfied: huggingface-hub>=0.19.0 in /usr/local/lib/python3.11/dist-packages (from huggingface-hub[inference]>=0.19.0->llama-index-embeddings-huggingface) (0.31.4)\n",
            "Requirement already satisfied: sentence-transformers>=2.6.1 in /usr/local/lib/python3.11/dist-packages (from llama-index-embeddings-huggingface) (4.1.0)\n",
            "Requirement already satisfied: filelock in /usr/local/lib/python3.11/dist-packages (from huggingface-hub>=0.19.0->huggingface-hub[inference]>=0.19.0->llama-index-embeddings-huggingface) (3.18.0)\n",
            "Requirement already satisfied: fsspec>=2023.5.0 in /usr/local/lib/python3.11/dist-packages (from huggingface-hub>=0.19.0->huggingface-hub[inference]>=0.19.0->llama-index-embeddings-huggingface) (2025.3.2)\n",
            "Requirement already satisfied: packaging>=20.9 in /usr/local/lib/python3.11/dist-packages (from huggingface-hub>=0.19.0->huggingface-hub[inference]>=0.19.0->llama-index-embeddings-huggingface) (24.2)\n",
            "Requirement already satisfied: pyyaml>=5.1 in /usr/local/lib/python3.11/dist-packages (from huggingface-hub>=0.19.0->huggingface-hub[inference]>=0.19.0->llama-index-embeddings-huggingface) (6.0.2)\n",
            "Requirement already satisfied: requests in /usr/local/lib/python3.11/dist-packages (from huggingface-hub>=0.19.0->huggingface-hub[inference]>=0.19.0->llama-index-embeddings-huggingface) (2.32.3)\n",
            "Requirement already satisfied: tqdm>=4.42.1 in /usr/local/lib/python3.11/dist-packages (from huggingface-hub>=0.19.0->huggingface-hub[inference]>=0.19.0->llama-index-embeddings-huggingface) (4.67.1)\n",
            "Requirement already satisfied: typing-extensions>=3.7.4.3 in /usr/local/lib/python3.11/dist-packages (from huggingface-hub>=0.19.0->huggingface-hub[inference]>=0.19.0->llama-index-embeddings-huggingface) (4.13.2)\n",
            "Requirement already satisfied: aiohttp in /usr/local/lib/python3.11/dist-packages (from huggingface-hub[inference]>=0.19.0->llama-index-embeddings-huggingface) (3.11.15)\n",
            "Requirement already satisfied: openai>=1.14.0 in /usr/local/lib/python3.11/dist-packages (from llama-index-agent-openai<0.5,>=0.4.0->llama-index) (1.81.0)\n",
            "Requirement already satisfied: aiosqlite in /usr/local/lib/python3.11/dist-packages (from llama-index-core<0.13,>=0.12.38->llama-index) (0.21.0)\n",
            "Requirement already satisfied: banks<3,>=2.0.0 in /usr/local/lib/python3.11/dist-packages (from llama-index-core<0.13,>=0.12.38->llama-index) (2.1.2)\n",
            "Requirement already satisfied: dataclasses-json in /usr/local/lib/python3.11/dist-packages (from llama-index-core<0.13,>=0.12.38->llama-index) (0.6.7)\n",
            "Requirement already satisfied: deprecated>=1.2.9.3 in /usr/local/lib/python3.11/dist-packages (from llama-index-core<0.13,>=0.12.38->llama-index) (1.2.18)\n",
            "Requirement already satisfied: dirtyjson<2,>=1.0.8 in /usr/local/lib/python3.11/dist-packages (from llama-index-core<0.13,>=0.12.38->llama-index) (1.0.8)\n",
            "Requirement already satisfied: filetype<2,>=1.2.0 in /usr/local/lib/python3.11/dist-packages (from llama-index-core<0.13,>=0.12.38->llama-index) (1.2.0)\n",
            "Requirement already satisfied: httpx in /usr/local/lib/python3.11/dist-packages (from llama-index-core<0.13,>=0.12.38->llama-index) (0.28.1)\n",
            "Requirement already satisfied: nest-asyncio<2,>=1.5.8 in /usr/local/lib/python3.11/dist-packages (from llama-index-core<0.13,>=0.12.38->llama-index) (1.6.0)\n",
            "Requirement already satisfied: networkx>=3.0 in /usr/local/lib/python3.11/dist-packages (from llama-index-core<0.13,>=0.12.38->llama-index) (3.4.2)\n",
            "Requirement already satisfied: numpy in /usr/local/lib/python3.11/dist-packages (from llama-index-core<0.13,>=0.12.38->llama-index) (2.0.2)\n",
            "Requirement already satisfied: pillow>=9.0.0 in /usr/local/lib/python3.11/dist-packages (from llama-index-core<0.13,>=0.12.38->llama-index) (11.2.1)\n",
            "Requirement already satisfied: pydantic>=2.8.0 in /usr/local/lib/python3.11/dist-packages (from llama-index-core<0.13,>=0.12.38->llama-index) (2.11.4)\n",
            "Requirement already satisfied: sqlalchemy>=1.4.49 in /usr/local/lib/python3.11/dist-packages (from sqlalchemy[asyncio]>=1.4.49->llama-index-core<0.13,>=0.12.38->llama-index) (2.0.41)\n",
            "Requirement already satisfied: tenacity!=8.4.0,<10.0.0,>=8.2.0 in /usr/local/lib/python3.11/dist-packages (from llama-index-core<0.13,>=0.12.38->llama-index) (9.1.2)\n",
            "Requirement already satisfied: tiktoken>=0.7.0 in /usr/local/lib/python3.11/dist-packages (from llama-index-core<0.13,>=0.12.38->llama-index) (0.9.0)\n",
            "Requirement already satisfied: typing-inspect>=0.8.0 in /usr/local/lib/python3.11/dist-packages (from llama-index-core<0.13,>=0.12.38->llama-index) (0.9.0)\n",
            "Requirement already satisfied: wrapt in /usr/local/lib/python3.11/dist-packages (from llama-index-core<0.13,>=0.12.38->llama-index) (1.17.2)\n",
            "Requirement already satisfied: llama-cloud==0.1.23 in /usr/local/lib/python3.11/dist-packages (from llama-index-indices-managed-llama-cloud>=0.4.0->llama-index) (0.1.23)\n",
            "Requirement already satisfied: certifi>=2024.7.4 in /usr/local/lib/python3.11/dist-packages (from llama-cloud==0.1.23->llama-index-indices-managed-llama-cloud>=0.4.0->llama-index) (2025.4.26)\n",
            "Requirement already satisfied: transformers<5,>=4.37.0 in /usr/local/lib/python3.11/dist-packages (from llama-index-llms-openai-like<0.4.0,>=0.3.1->llama-index-llms-groq) (4.52.2)\n",
            "Requirement already satisfied: beautifulsoup4<5,>=4.12.3 in /usr/local/lib/python3.11/dist-packages (from llama-index-readers-file<0.5,>=0.4.0->llama-index) (4.13.4)\n",
            "Requirement already satisfied: pandas in /usr/local/lib/python3.11/dist-packages (from llama-index-readers-file<0.5,>=0.4.0->llama-index) (2.2.2)\n",
            "Requirement already satisfied: pypdf<6,>=5.1.0 in /usr/local/lib/python3.11/dist-packages (from llama-index-readers-file<0.5,>=0.4.0->llama-index) (5.5.0)\n",
            "Requirement already satisfied: striprtf<0.0.27,>=0.0.26 in /usr/local/lib/python3.11/dist-packages (from llama-index-readers-file<0.5,>=0.4.0->llama-index) (0.0.26)\n",
            "Requirement already satisfied: llama-parse>=0.5.0 in /usr/local/lib/python3.11/dist-packages (from llama-index-readers-llama-parse>=0.4.0->llama-index) (0.6.24)\n",
            "Requirement already satisfied: click in /usr/local/lib/python3.11/dist-packages (from nltk>3.8.1->llama-index) (8.2.1)\n",
            "Requirement already satisfied: joblib in /usr/local/lib/python3.11/dist-packages (from nltk>3.8.1->llama-index) (1.5.0)\n",
            "Requirement already satisfied: regex>=2021.8.3 in /usr/local/lib/python3.11/dist-packages (from nltk>3.8.1->llama-index) (2024.11.6)\n",
            "Requirement already satisfied: torch>=1.11.0 in /usr/local/lib/python3.11/dist-packages (from sentence-transformers>=2.6.1->llama-index-embeddings-huggingface) (2.6.0+cu124)\n",
            "Requirement already satisfied: scikit-learn in /usr/local/lib/python3.11/dist-packages (from sentence-transformers>=2.6.1->llama-index-embeddings-huggingface) (1.6.1)\n",
            "Requirement already satisfied: scipy in /usr/local/lib/python3.11/dist-packages (from sentence-transformers>=2.6.1->llama-index-embeddings-huggingface) (1.15.3)\n",
            "Requirement already satisfied: aiohappyeyeballs>=2.3.0 in /usr/local/lib/python3.11/dist-packages (from aiohttp->huggingface-hub[inference]>=0.19.0->llama-index-embeddings-huggingface) (2.6.1)\n",
            "Requirement already satisfied: aiosignal>=1.1.2 in /usr/local/lib/python3.11/dist-packages (from aiohttp->huggingface-hub[inference]>=0.19.0->llama-index-embeddings-huggingface) (1.3.2)\n",
            "Requirement already satisfied: attrs>=17.3.0 in /usr/local/lib/python3.11/dist-packages (from aiohttp->huggingface-hub[inference]>=0.19.0->llama-index-embeddings-huggingface) (25.3.0)\n",
            "Requirement already satisfied: frozenlist>=1.1.1 in /usr/local/lib/python3.11/dist-packages (from aiohttp->huggingface-hub[inference]>=0.19.0->llama-index-embeddings-huggingface) (1.6.0)\n",
            "Requirement already satisfied: multidict<7.0,>=4.5 in /usr/local/lib/python3.11/dist-packages (from aiohttp->huggingface-hub[inference]>=0.19.0->llama-index-embeddings-huggingface) (6.4.4)\n",
            "Requirement already satisfied: propcache>=0.2.0 in /usr/local/lib/python3.11/dist-packages (from aiohttp->huggingface-hub[inference]>=0.19.0->llama-index-embeddings-huggingface) (0.3.1)\n",
            "Requirement already satisfied: yarl<2.0,>=1.17.0 in /usr/local/lib/python3.11/dist-packages (from aiohttp->huggingface-hub[inference]>=0.19.0->llama-index-embeddings-huggingface) (1.20.0)\n",
            "Requirement already satisfied: griffe in /usr/local/lib/python3.11/dist-packages (from banks<3,>=2.0.0->llama-index-core<0.13,>=0.12.38->llama-index) (1.7.3)\n",
            "Requirement already satisfied: jinja2 in /usr/local/lib/python3.11/dist-packages (from banks<3,>=2.0.0->llama-index-core<0.13,>=0.12.38->llama-index) (3.1.6)\n",
            "Requirement already satisfied: platformdirs in /usr/local/lib/python3.11/dist-packages (from banks<3,>=2.0.0->llama-index-core<0.13,>=0.12.38->llama-index) (4.3.8)\n",
            "Requirement already satisfied: soupsieve>1.2 in /usr/local/lib/python3.11/dist-packages (from beautifulsoup4<5,>=4.12.3->llama-index-readers-file<0.5,>=0.4.0->llama-index) (2.7)\n",
            "Requirement already satisfied: anyio in /usr/local/lib/python3.11/dist-packages (from httpx->llama-index-core<0.13,>=0.12.38->llama-index) (4.9.0)\n",
            "Requirement already satisfied: httpcore==1.* in /usr/local/lib/python3.11/dist-packages (from httpx->llama-index-core<0.13,>=0.12.38->llama-index) (1.0.9)\n",
            "Requirement already satisfied: idna in /usr/local/lib/python3.11/dist-packages (from httpx->llama-index-core<0.13,>=0.12.38->llama-index) (3.10)\n",
            "Requirement already satisfied: h11>=0.16 in /usr/local/lib/python3.11/dist-packages (from httpcore==1.*->httpx->llama-index-core<0.13,>=0.12.38->llama-index) (0.16.0)\n",
            "Requirement already satisfied: llama-cloud-services>=0.6.24 in /usr/local/lib/python3.11/dist-packages (from llama-parse>=0.5.0->llama-index-readers-llama-parse>=0.4.0->llama-index) (0.6.24)\n",
            "Requirement already satisfied: distro<2,>=1.7.0 in /usr/local/lib/python3.11/dist-packages (from openai>=1.14.0->llama-index-agent-openai<0.5,>=0.4.0->llama-index) (1.9.0)\n",
            "Requirement already satisfied: jiter<1,>=0.4.0 in /usr/local/lib/python3.11/dist-packages (from openai>=1.14.0->llama-index-agent-openai<0.5,>=0.4.0->llama-index) (0.10.0)\n",
            "Requirement already satisfied: sniffio in /usr/local/lib/python3.11/dist-packages (from openai>=1.14.0->llama-index-agent-openai<0.5,>=0.4.0->llama-index) (1.3.1)\n",
            "Requirement already satisfied: annotated-types>=0.6.0 in /usr/local/lib/python3.11/dist-packages (from pydantic>=2.8.0->llama-index-core<0.13,>=0.12.38->llama-index) (0.7.0)\n",
            "Requirement already satisfied: pydantic-core==2.33.2 in /usr/local/lib/python3.11/dist-packages (from pydantic>=2.8.0->llama-index-core<0.13,>=0.12.38->llama-index) (2.33.2)\n",
            "Requirement already satisfied: typing-inspection>=0.4.0 in /usr/local/lib/python3.11/dist-packages (from pydantic>=2.8.0->llama-index-core<0.13,>=0.12.38->llama-index) (0.4.1)\n",
            "Requirement already satisfied: charset-normalizer<4,>=2 in /usr/local/lib/python3.11/dist-packages (from requests->huggingface-hub>=0.19.0->huggingface-hub[inference]>=0.19.0->llama-index-embeddings-huggingface) (3.4.2)\n",
            "Requirement already satisfied: urllib3<3,>=1.21.1 in /usr/local/lib/python3.11/dist-packages (from requests->huggingface-hub>=0.19.0->huggingface-hub[inference]>=0.19.0->llama-index-embeddings-huggingface) (2.4.0)\n",
            "Requirement already satisfied: greenlet>=1 in /usr/local/lib/python3.11/dist-packages (from sqlalchemy>=1.4.49->sqlalchemy[asyncio]>=1.4.49->llama-index-core<0.13,>=0.12.38->llama-index) (3.2.2)\n",
            "Requirement already satisfied: nvidia-cuda-nvrtc-cu12==12.4.127 in /usr/local/lib/python3.11/dist-packages (from torch>=1.11.0->sentence-transformers>=2.6.1->llama-index-embeddings-huggingface) (12.4.127)\n",
            "Requirement already satisfied: nvidia-cuda-runtime-cu12==12.4.127 in /usr/local/lib/python3.11/dist-packages (from torch>=1.11.0->sentence-transformers>=2.6.1->llama-index-embeddings-huggingface) (12.4.127)\n",
            "Requirement already satisfied: nvidia-cuda-cupti-cu12==12.4.127 in /usr/local/lib/python3.11/dist-packages (from torch>=1.11.0->sentence-transformers>=2.6.1->llama-index-embeddings-huggingface) (12.4.127)\n",
            "Requirement already satisfied: nvidia-cudnn-cu12==9.1.0.70 in /usr/local/lib/python3.11/dist-packages (from torch>=1.11.0->sentence-transformers>=2.6.1->llama-index-embeddings-huggingface) (9.1.0.70)\n",
            "Requirement already satisfied: nvidia-cublas-cu12==12.4.5.8 in /usr/local/lib/python3.11/dist-packages (from torch>=1.11.0->sentence-transformers>=2.6.1->llama-index-embeddings-huggingface) (12.4.5.8)\n",
            "Requirement already satisfied: nvidia-cufft-cu12==11.2.1.3 in /usr/local/lib/python3.11/dist-packages (from torch>=1.11.0->sentence-transformers>=2.6.1->llama-index-embeddings-huggingface) (11.2.1.3)\n",
            "Requirement already satisfied: nvidia-curand-cu12==10.3.5.147 in /usr/local/lib/python3.11/dist-packages (from torch>=1.11.0->sentence-transformers>=2.6.1->llama-index-embeddings-huggingface) (10.3.5.147)\n",
            "Requirement already satisfied: nvidia-cusolver-cu12==11.6.1.9 in /usr/local/lib/python3.11/dist-packages (from torch>=1.11.0->sentence-transformers>=2.6.1->llama-index-embeddings-huggingface) (11.6.1.9)\n",
            "Requirement already satisfied: nvidia-cusparse-cu12==12.3.1.170 in /usr/local/lib/python3.11/dist-packages (from torch>=1.11.0->sentence-transformers>=2.6.1->llama-index-embeddings-huggingface) (12.3.1.170)\n",
            "Requirement already satisfied: nvidia-cusparselt-cu12==0.6.2 in /usr/local/lib/python3.11/dist-packages (from torch>=1.11.0->sentence-transformers>=2.6.1->llama-index-embeddings-huggingface) (0.6.2)\n",
            "Requirement already satisfied: nvidia-nccl-cu12==2.21.5 in /usr/local/lib/python3.11/dist-packages (from torch>=1.11.0->sentence-transformers>=2.6.1->llama-index-embeddings-huggingface) (2.21.5)\n",
            "Requirement already satisfied: nvidia-nvtx-cu12==12.4.127 in /usr/local/lib/python3.11/dist-packages (from torch>=1.11.0->sentence-transformers>=2.6.1->llama-index-embeddings-huggingface) (12.4.127)\n",
            "Requirement already satisfied: nvidia-nvjitlink-cu12==12.4.127 in /usr/local/lib/python3.11/dist-packages (from torch>=1.11.0->sentence-transformers>=2.6.1->llama-index-embeddings-huggingface) (12.4.127)\n",
            "Requirement already satisfied: triton==3.2.0 in /usr/local/lib/python3.11/dist-packages (from torch>=1.11.0->sentence-transformers>=2.6.1->llama-index-embeddings-huggingface) (3.2.0)\n",
            "Requirement already satisfied: sympy==1.13.1 in /usr/local/lib/python3.11/dist-packages (from torch>=1.11.0->sentence-transformers>=2.6.1->llama-index-embeddings-huggingface) (1.13.1)\n",
            "Requirement already satisfied: mpmath<1.4,>=1.1.0 in /usr/local/lib/python3.11/dist-packages (from sympy==1.13.1->torch>=1.11.0->sentence-transformers>=2.6.1->llama-index-embeddings-huggingface) (1.3.0)\n",
            "Requirement already satisfied: tokenizers<0.22,>=0.21 in /usr/local/lib/python3.11/dist-packages (from transformers<5,>=4.37.0->llama-index-llms-openai-like<0.4.0,>=0.3.1->llama-index-llms-groq) (0.21.1)\n",
            "Requirement already satisfied: safetensors>=0.4.3 in /usr/local/lib/python3.11/dist-packages (from transformers<5,>=4.37.0->llama-index-llms-openai-like<0.4.0,>=0.3.1->llama-index-llms-groq) (0.5.3)\n",
            "Requirement already satisfied: mypy-extensions>=0.3.0 in /usr/local/lib/python3.11/dist-packages (from typing-inspect>=0.8.0->llama-index-core<0.13,>=0.12.38->llama-index) (1.1.0)\n",
            "Requirement already satisfied: marshmallow<4.0.0,>=3.18.0 in /usr/local/lib/python3.11/dist-packages (from dataclasses-json->llama-index-core<0.13,>=0.12.38->llama-index) (3.26.1)\n",
            "Requirement already satisfied: python-dateutil>=2.8.2 in /usr/local/lib/python3.11/dist-packages (from pandas->llama-index-readers-file<0.5,>=0.4.0->llama-index) (2.9.0.post0)\n",
            "Requirement already satisfied: pytz>=2020.1 in /usr/local/lib/python3.11/dist-packages (from pandas->llama-index-readers-file<0.5,>=0.4.0->llama-index) (2025.2)\n",
            "Requirement already satisfied: tzdata>=2022.7 in /usr/local/lib/python3.11/dist-packages (from pandas->llama-index-readers-file<0.5,>=0.4.0->llama-index) (2025.2)\n",
            "Requirement already satisfied: threadpoolctl>=3.1.0 in /usr/local/lib/python3.11/dist-packages (from scikit-learn->sentence-transformers>=2.6.1->llama-index-embeddings-huggingface) (3.6.0)\n",
            "Requirement already satisfied: python-dotenv<2.0.0,>=1.0.1 in /usr/local/lib/python3.11/dist-packages (from llama-cloud-services>=0.6.24->llama-parse>=0.5.0->llama-index-readers-llama-parse>=0.4.0->llama-index) (1.1.0)\n",
            "Requirement already satisfied: six>=1.5 in /usr/local/lib/python3.11/dist-packages (from python-dateutil>=2.8.2->pandas->llama-index-readers-file<0.5,>=0.4.0->llama-index) (1.17.0)\n",
            "Requirement already satisfied: colorama>=0.4 in /usr/local/lib/python3.11/dist-packages (from griffe->banks<3,>=2.0.0->llama-index-core<0.13,>=0.12.38->llama-index) (0.4.6)\n",
            "Requirement already satisfied: MarkupSafe>=2.0 in /usr/local/lib/python3.11/dist-packages (from jinja2->banks<3,>=2.0.0->llama-index-core<0.13,>=0.12.38->llama-index) (3.0.2)\n"
          ]
        }
      ],
      "source": [
        "!pip install llama-index llama-index-llms-groq llama-index-embeddings-huggingface"
      ]
    },
    {
      "cell_type": "code",
      "source": [
        "import os"
      ],
      "metadata": {
        "id": "hqhMTWq9ctZd"
      },
      "execution_count": 35,
      "outputs": []
    },
    {
      "cell_type": "code",
      "source": [
        "GROQ_API_KEY = \"your api key\""
      ],
      "metadata": {
        "id": "43tZITavcuM7"
      },
      "execution_count": 51,
      "outputs": []
    },
    {
      "cell_type": "code",
      "source": [
        "os.environ[\"GROQ_API_KEY\"] = GROQ_API_KEY"
      ],
      "metadata": {
        "id": "x09txjYRc0eM"
      },
      "execution_count": 52,
      "outputs": []
    },
    {
      "cell_type": "code",
      "source": [
        "import nest_asyncio\n",
        "\n",
        "nest_asyncio.apply()"
      ],
      "metadata": {
        "id": "U8iv_wubc1RF"
      },
      "execution_count": 53,
      "outputs": []
    },
    {
      "cell_type": "code",
      "source": [
        "from llama_index.core import SimpleDirectoryReader\n",
        "from llama_index.core import SummaryIndex\n",
        "from llama_index.llms.groq import Groq\n",
        "from llama_index.core.node_parser import SentenceSplitter\n",
        "from llama_index.core import Settings\n",
        "from llama_index.embeddings.huggingface import HuggingFaceEmbedding"
      ],
      "metadata": {
        "id": "UMWNup-Mc3c0"
      },
      "execution_count": 54,
      "outputs": []
    },
    {
      "cell_type": "code",
      "source": [
        "llm = Groq(model=\"llama-3.1-8b-instant\")\n",
        "\n",
        "Settings.llm = llm\n",
        "Settings.embed_model = HuggingFaceEmbedding()"
      ],
      "metadata": {
        "id": "iV5XFr0-dN0f"
      },
      "execution_count": 55,
      "outputs": []
    },
    {
      "cell_type": "code",
      "source": [
        "# load the document\n",
        "documents = SimpleDirectoryReader(input_files=[\"/content/Abdul kalam.pdf\"]).load_data()"
      ],
      "metadata": {
        "id": "WlHuZD-8dQrS"
      },
      "execution_count": 57,
      "outputs": []
    },
    {
      "cell_type": "code",
      "source": [
        "print(type(documents))"
      ],
      "metadata": {
        "colab": {
          "base_uri": "https://localhost:8080/"
        },
        "id": "tShyjQ2gd9pz",
        "outputId": "aaeb73c1-127e-47e3-f701-d3775b5d5e7f"
      },
      "execution_count": 58,
      "outputs": [
        {
          "output_type": "stream",
          "name": "stdout",
          "text": [
            "<class 'list'>\n"
          ]
        }
      ]
    },
    {
      "cell_type": "code",
      "source": [
        "len(documents)"
      ],
      "metadata": {
        "colab": {
          "base_uri": "https://localhost:8080/"
        },
        "id": "NDmAMfMYd_dH",
        "outputId": "7ceccc99-0e85-4ee6-bf88-e49bd0bf4b08"
      },
      "execution_count": 59,
      "outputs": [
        {
          "output_type": "execute_result",
          "data": {
            "text/plain": [
              "2"
            ]
          },
          "metadata": {},
          "execution_count": 59
        }
      ]
    },
    {
      "cell_type": "code",
      "source": [
        "documents[0]"
      ],
      "metadata": {
        "colab": {
          "base_uri": "https://localhost:8080/"
        },
        "id": "84mqXM4GeBLC",
        "outputId": "a181c62a-59e5-4ece-9ecd-778302edcca0"
      },
      "execution_count": 60,
      "outputs": [
        {
          "output_type": "execute_result",
          "data": {
            "text/plain": [
              "Document(id_='858ba8f9-dc80-4d07-83dc-6b0b8764556f', embedding=None, metadata={'page_label': '1', 'file_name': 'Abdul kalam.pdf', 'file_path': '/content/Abdul kalam.pdf', 'file_type': 'application/pdf', 'file_size': 321424, 'creation_date': '2025-05-30', 'last_modified_date': '2025-05-30'}, excluded_embed_metadata_keys=['file_name', 'file_type', 'file_size', 'creation_date', 'last_modified_date', 'last_accessed_date'], excluded_llm_metadata_keys=['file_name', 'file_type', 'file_size', 'creation_date', 'last_modified_date', 'last_accessed_date'], relationships={}, metadata_template='{key}: {value}', metadata_separator='\\n', text_resource=MediaResource(embeddings=None, data=None, text='Dr . Avul Pakir Jainulabdeen Abdul Kalam, fondly known as the \"Missile Man of India,\" was a \\nremarkable individual whose life continues to inspire millions across the globe. Born on October 15, \\n1931, in Rameswaram, a small town in Tamil Nadu, he came from a humble background. His father \\nwas a boat owner and imam of a local mosque, while his mother was a homemaker . Despite financial \\nchallenges, young Kalam was a curious and diligent student who developed a deep interest in science \\nand mathematics at an early age. He completed his schooling in Rameswaram and later graduated in \\nPhysics from St. Joseph’s College, Tiruchirappalli, before moving on to study aerospace engineering \\nat the Madras Institute of Technology (MIT). His education laid the foundation for a life dedicated to \\nscience, innovation, and public service. \\nAfter completing his education, Abdul Kalam joined the Defense Research and Development \\nOrganisation (DRDO) and later moved to the Indian Space Research Organisation (ISRO). It was at \\nISRO that he played a crucial role in India\\'s first satellite launch vehicle (SLV-III), which successfully \\ndeployed the Rohini satellite in 1980. This landmark achievement marked India’s entry into the \\nleague of space-faring nations. Kalam\\'s leadership and technical expertise earned him immense \\nrespect and recognition, and he became a key figure in India’s space and defense programs. He later \\nreturned to DRDO, where he led the Integrated Guided Missile Development Programme (IGMDP), \\ndeveloping missiles such as Agni, Prithvi, Trishul, Akash, and Nag, which significantly bolstered India\\'s \\ndefense capabilities. Due to his pivotal role in these projects, he was nicknamed the \"Missile Man of \\nIndia.\" \\nDr . Kalam’s contributions went far beyond missiles and space. He had a vision for transforming India \\ninto a developed nation by the year 2020, which he outlined in his book India 2020: A Vision for the \\nNew Millennium. He believed in harnessing the power of science and technology to address India\\'s \\npressing problems in agriculture, education, healthcare, and infrastructure. His emphasis on \\ninnovation, self-reliance, and youth empowerment struck a chord with people of all ages. He often \\nspoke about the importance of dreaming big, working hard, and never giving up, famously saying, \\n“Dream is not that which you see while sleeping, it is something that does not let you sleep.” His \\nspeeches and writings consistently encouraged students to pursue excellence and become agents of \\nchange. \\nIn 2002, Dr . Kalam was elected as the 11th President of India, becoming the first scientist and the \\nfirst bachelor to occupy the Rashtrapati Bhavan. During his presidency, he was known as the \\n“People’s President” because of his simplicity, accessibility, and deep concern for the common \\ncitizen. He used his tenure to connect with youth, frequently visiting schools, colleges, and \\nuniversities, often engaging with students more than with politicians. He believed that true \\ndevelopment could only be achieved by nurturing the potential of the young minds of the country. \\nDespite holding the highest constitutional position in India, Kalam remained humble and grounded, \\nand he left office in 2007 with immense respect and love from the nation. \\nAfter his presidency, Dr . Kalam returned to what he loved most—teaching and interacting with \\nstudents. He took up roles as a visiting professor at various prestigious institutions including the \\nIndian Institute of Management (IIMs), the Indian Institute of Space Science and Technology (IIST), \\nand Anna University. He continued writing books and giving lectures on topics ranging from \\ntechnology and national development to moral leadership and spirituality. His deep-rooted belief in \\nunity and peace transcended religious boundaries. A devout Muslim, he often quoted the Bhagavad \\nGita and respected all religions, embodying the true spirit of secularism and harmony. \\nAmong the many honors and awards he received during his lifetime were the Padma Bhushan \\n(1981), Padma Vibhushan (1990), and Bharat Ratna (1997), India’s highest civilian award. Yet, Kalam ', path=None, url=None, mimetype=None), image_resource=None, audio_resource=None, video_resource=None, text_template='{metadata_str}\\n\\n{content}')"
            ]
          },
          "metadata": {},
          "execution_count": 60
        }
      ]
    },
    {
      "cell_type": "code",
      "source": [
        "documents[1]"
      ],
      "metadata": {
        "colab": {
          "base_uri": "https://localhost:8080/"
        },
        "id": "dcl8naaieJ94",
        "outputId": "ef5138d1-d9ff-4622-b850-784e7d126b0b"
      },
      "execution_count": 61,
      "outputs": [
        {
          "output_type": "execute_result",
          "data": {
            "text/plain": [
              "Document(id_='05acc936-eded-42f2-94d6-9f3921370f0f', embedding=None, metadata={'page_label': '2', 'file_name': 'Abdul kalam.pdf', 'file_path': '/content/Abdul kalam.pdf', 'file_type': 'application/pdf', 'file_size': 321424, 'creation_date': '2025-05-30', 'last_modified_date': '2025-05-30'}, excluded_embed_metadata_keys=['file_name', 'file_type', 'file_size', 'creation_date', 'last_modified_date', 'last_accessed_date'], excluded_llm_metadata_keys=['file_name', 'file_type', 'file_size', 'creation_date', 'last_modified_date', 'last_accessed_date'], relationships={}, metadata_template='{key}: {value}', metadata_separator='\\n', text_resource=MediaResource(embeddings=None, data=None, text='remained unaffected by fame. He preferred to live a simple life, often with just a few possessions and \\nan unshakable commitment to his country and its people. His life was a perfect blend of scientific \\nintellect, philosophical depth, and ethical living. He inspired not just Indians, but people worldwide \\nwith his humility, wisdom, and unwavering optimism. \\nTragically, Dr . Abdul Kalam passed away on July 27, 2015, while delivering a lecture at the Indian \\nInstitute of Management, Shillong. His death shocked the nation and left a void that could never be \\nfilled. However, he died doing what he loved—teaching and inspiring students. In many ways, his end \\nsymbolized his entire life’s mission: spreading knowledge and lighting the path for future \\ngenerations. His funeral was attended by thousands from all walks of life, reflecting the profound \\nimpact he had on the hearts of people. \\nToday, his legacy lives on through the numerous educational initiatives, institutions, scholarships, and \\nresearch centers named after him. His books like Wings of Fire, Ignited Minds, and My Journey \\ncontinue to inspire readers. He is remembered not just as a scientist or a president, but as a visionary \\nleader, a beloved teacher, and a role model for millions. Schools and colleges across the country \\ncelebrate his birthday, October 15, as World Students’ Day, a fitting tribute to someone who believed \\nthat “the ignited mind of the youth is the most powerful resource on the earth, above the earth and \\nunder the earth.” \\n ', path=None, url=None, mimetype=None), image_resource=None, audio_resource=None, video_resource=None, text_template='{metadata_str}\\n\\n{content}')"
            ]
          },
          "metadata": {},
          "execution_count": 61
        }
      ]
    },
    {
      "cell_type": "code",
      "source": [
        "splitter = SentenceSplitter(chunk_size=2048)\n",
        "nodes = splitter.get_nodes_from_documents(documents)"
      ],
      "metadata": {
        "id": "kO6X1Ly8eN8g"
      },
      "execution_count": 62,
      "outputs": []
    },
    {
      "cell_type": "code",
      "source": [
        "summary_index = SummaryIndex(nodes)"
      ],
      "metadata": {
        "id": "XIs26T_9eVIg"
      },
      "execution_count": 63,
      "outputs": []
    },
    {
      "cell_type": "code",
      "source": [
        "summary_query_engine = summary_index.as_query_engine(\n",
        "    response_mode=\"tree_summarize\",\n",
        "    use_async=True\n",
        ")"
      ],
      "metadata": {
        "id": "9kJPVWnIeWr9"
      },
      "execution_count": 64,
      "outputs": []
    },
    {
      "cell_type": "code",
      "source": [
        "response = summary_query_engine.query(\"Summarize the given document\")"
      ],
      "metadata": {
        "id": "K19_XouUeZsZ"
      },
      "execution_count": 65,
      "outputs": []
    },
    {
      "cell_type": "code",
      "source": [
        "print(type(response))"
      ],
      "metadata": {
        "colab": {
          "base_uri": "https://localhost:8080/"
        },
        "id": "troFXCKyeb1-",
        "outputId": "f3dfa20a-8ecf-4242-fa66-147e351fe103"
      },
      "execution_count": 66,
      "outputs": [
        {
          "output_type": "stream",
          "name": "stdout",
          "text": [
            "<class 'llama_index.core.base.response.schema.Response'>\n"
          ]
        }
      ]
    },
    {
      "cell_type": "code",
      "source": [
        "print(response)"
      ],
      "metadata": {
        "colab": {
          "base_uri": "https://localhost:8080/"
        },
        "id": "PrOG1bPkeetg",
        "outputId": "1c35b046-14f8-4a6a-da60-0ed463c4d03d"
      },
      "execution_count": 67,
      "outputs": [
        {
          "output_type": "stream",
          "name": "stdout",
          "text": [
            "A remarkable individual, born on October 15, 1931, in a small town in Tamil Nadu, left an indelible mark on the world. Despite financial challenges, he developed a deep interest in science and mathematics, laying the foundation for a life dedicated to science, innovation, and public service.\n",
            "\n",
            "He played a crucial role in India's first satellite launch vehicle, which successfully deployed the Rohini satellite in 1980, and later led the development of missiles that significantly bolstered India's defense capabilities. His leadership and technical expertise earned him immense respect and recognition.\n",
            "\n",
            "Beyond his achievements in science and technology, he had a vision for transforming India into a developed nation by 2020, emphasizing innovation, self-reliance, and youth empowerment. He believed in harnessing the power of science and technology to address India's pressing problems.\n",
            "\n",
            "As the 11th President of India, he was known as the \"People's President\" for his simplicity, accessibility, and deep concern for the common citizen. He used his tenure to connect with youth, frequently visiting schools, colleges, and universities.\n",
            "\n",
            "After his presidency, he returned to teaching and interacting with students, writing books, and giving lectures on various topics. His deep-rooted belief in unity and peace transcended religious boundaries, embodying the true spirit of secularism and harmony.\n",
            "\n",
            "Throughout his life, he remained unaffected by fame, preferring to live a simple life with an unshakable commitment to his country and its people. His life was a perfect blend of scientific intellect, philosophical depth, and ethical living, inspiring not just Indians, but people worldwide with his humility, wisdom, and unwavering optimism.\n",
            "\n",
            "Tragically, he passed away on July 27, 2015, while delivering a lecture at the Indian Institute of Management, Shillong, leaving behind a legacy that continues to inspire readers through his books and educational initiatives. His birthday, October 15, is celebrated as World Students' Day, a fitting tribute to someone who believed that the ignited mind of the youth is the most powerful resource on earth.\n"
          ]
        }
      ]
    },
    {
      "cell_type": "code",
      "source": [
        "response = summary_query_engine.query(\"Give a detailed summary of teh given document\")\n",
        "\n",
        "print(response)"
      ],
      "metadata": {
        "colab": {
          "base_uri": "https://localhost:8080/"
        },
        "id": "EqfdI0LAejDy",
        "outputId": "0f12473c-ea91-4e4f-efd9-04a477b8b7ad"
      },
      "execution_count": 68,
      "outputs": [
        {
          "output_type": "stream",
          "name": "stdout",
          "text": [
            "Dr. Avul Pakir Jainulabdeen Abdul Kalam, affectionately known as the \"Missile Man of India,\" was a remarkable individual whose life continues to inspire millions worldwide. Born on October 15, 1931, in Rameswaram, Tamil Nadu, he came from a humble background. Despite financial challenges, young Kalam was a curious and diligent student who developed a deep interest in science and mathematics at an early age.\n",
            "\n",
            "He completed his schooling in Rameswaram and later graduated in Physics from St. Joseph's College, Tiruchirappalli, before moving on to study aerospace engineering at the Madras Institute of Technology (MIT). His education laid the foundation for a life dedicated to science, innovation, and public service.\n",
            "\n",
            "After completing his education, Abdul Kalam joined the Defense Research and Development Organisation (DRDO) and later moved to the Indian Space Research Organisation (ISRO). It was at ISRO that he played a crucial role in India's first satellite launch vehicle (SLV-III), which successfully deployed the Rohini satellite in 1980. This landmark achievement marked India's entry into the league of space-faring nations.\n",
            "\n",
            "Kalam's leadership and technical expertise earned him immense respect and recognition, and he became a key figure in India's space and defense programs. He later returned to DRDO, where he led the Integrated Guided Missile Development Programme (IGMDP), developing missiles such as Agni, Prithvi, Trishul, Akash, and Nag, which significantly bolstered India's defense capabilities. Due to his pivotal role in these projects, he was nicknamed the \"Missile Man of India.\"\n",
            "\n",
            "Dr. Kalam's contributions went far beyond missiles and space. He had a vision for transforming India into a developed nation by the year 2020, which he outlined in his book \"India 2020: A Vision for the New Millennium.\" He believed in harnessing the power of science and technology to address India's pressing problems in agriculture, education, healthcare, and infrastructure. His emphasis on innovation, self-reliance, and youth empowerment struck a chord with people of all ages.\n",
            "\n",
            "In 2002, Dr. Kalam was elected as the 11th President of India, becoming the first scientist and the first bachelor to occupy the Rashtrapati Bhavan. During his presidency, he was known as the \"People's President\" because of his simplicity, accessibility, and deep concern for the common citizen. He used his tenure to connect with youth, frequently visiting schools, colleges, and universities, often engaging with students more than with politicians.\n",
            "\n",
            "After his presidency, Dr. Kalam returned to what he loved most—teaching and interacting with students. He took up roles as a visiting professor at various prestigious institutions, including the Indian Institute of Management (IIMs), the Indian Institute of Space Science and Technology (IIST), and Anna University. He continued writing books and giving lectures on topics ranging from technology and national development to moral leadership and spirituality.\n",
            "\n",
            "Throughout his life, Dr. Kalam remained unaffected by fame. He preferred to live a simple life, often with just a few possessions and an unshakable commitment to his country and its people. His life was a perfect blend of scientific intellect, philosophical depth, and ethical living. He inspired not just Indians, but people worldwide with his humility, wisdom, and unwavering optimism.\n",
            "\n",
            "Tragically, Dr. Abdul Kalam passed away on July 27, 2015, while delivering a lecture at the Indian Institute of Management, Shillong. His death shocked the nation and left a void that could never be filled. However, he died doing what he loved—teaching and inspiring students. In many ways, his end symbolized his entire life's mission: spreading knowledge and lighting the path for future generations.\n",
            "\n",
            "Today, his legacy lives on through the numerous educational initiatives, institutions, scholarships, and research centers named after him. His books continue to inspire readers, and he is remembered not just as a scientist or a president, but as a visionary leader, a beloved teacher, and a role model for millions.\n"
          ]
        }
      ]
    }
  ]
}